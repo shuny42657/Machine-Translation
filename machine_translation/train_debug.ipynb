{
 "cells": [
  {
   "cell_type": "code",
   "execution_count": 2,
   "metadata": {},
   "outputs": [
    {
     "name": "stderr",
     "output_type": "stream",
     "text": [
      "/home/mil/yoshikawa/.pyenv/versions/anaconda3-2023.03/envs/machine_translation/lib/python3.10/site-packages/torchtext/transforms.py:4: UserWarning: \n",
      "/!\\ IMPORTANT WARNING ABOUT TORCHTEXT STATUS /!\\ \n",
      "Torchtext is deprecated and the last released version will be 0.18 (this one). You can silence this warning by calling the following at the beginnign of your scripts: `import torchtext; torchtext.disable_torchtext_deprecation_warning()`\n",
      "  warnings.warn(torchtext._TORCHTEXT_DEPRECATION_MSG)\n",
      "/home/mil/yoshikawa/.pyenv/versions/anaconda3-2023.03/envs/machine_translation/lib/python3.10/site-packages/torchtext/data/__init__.py:4: UserWarning: \n",
      "/!\\ IMPORTANT WARNING ABOUT TORCHTEXT STATUS /!\\ \n",
      "Torchtext is deprecated and the last released version will be 0.18 (this one). You can silence this warning by calling the following at the beginnign of your scripts: `import torchtext; torchtext.disable_torchtext_deprecation_warning()`\n",
      "  warnings.warn(torchtext._TORCHTEXT_DEPRECATION_MSG)\n",
      "/home/mil/yoshikawa/.pyenv/versions/anaconda3-2023.03/envs/machine_translation/lib/python3.10/site-packages/torchtext/utils.py:4: UserWarning: \n",
      "/!\\ IMPORTANT WARNING ABOUT TORCHTEXT STATUS /!\\ \n",
      "Torchtext is deprecated and the last released version will be 0.18 (this one). You can silence this warning by calling the following at the beginnign of your scripts: `import torchtext; torchtext.disable_torchtext_deprecation_warning()`\n",
      "  warnings.warn(torchtext._TORCHTEXT_DEPRECATION_MSG)\n",
      "/home/mil/yoshikawa/.pyenv/versions/anaconda3-2023.03/envs/machine_translation/lib/python3.10/site-packages/torchtext/vocab/__init__.py:4: UserWarning: \n",
      "/!\\ IMPORTANT WARNING ABOUT TORCHTEXT STATUS /!\\ \n",
      "Torchtext is deprecated and the last released version will be 0.18 (this one). You can silence this warning by calling the following at the beginnign of your scripts: `import torchtext; torchtext.disable_torchtext_deprecation_warning()`\n",
      "  warnings.warn(torchtext._TORCHTEXT_DEPRECATION_MSG)\n",
      "/home/mil/yoshikawa/.pyenv/versions/anaconda3-2023.03/envs/machine_translation/lib/python3.10/site-packages/torchtext/functional.py:4: UserWarning: \n",
      "/!\\ IMPORTANT WARNING ABOUT TORCHTEXT STATUS /!\\ \n",
      "Torchtext is deprecated and the last released version will be 0.18 (this one). You can silence this warning by calling the following at the beginnign of your scripts: `import torchtext; torchtext.disable_torchtext_deprecation_warning()`\n",
      "  warnings.warn(torchtext._TORCHTEXT_DEPRECATION_MSG)\n"
     ]
    }
   ],
   "source": [
    "import torch\n",
    "import torch.nn as nn\n",
    "import dataset_util as util\n",
    "import pathlib\n",
    "import torchdata.datapipes as dp\n",
    "import torchtext.transforms as T\n",
    "import spacy\n",
    "from torch.utils.data import DataLoader,random_split\n",
    "from torchtext.vocab import build_vocab_from_iterator\n",
    "from transformer import Transformer\n",
    "import matplotlib.pyplot as plt"
   ]
  },
  {
   "cell_type": "code",
   "execution_count": 3,
   "metadata": {},
   "outputs": [],
   "source": [
    "device = 'cuda' if torch.cuda.is_available() else 'cpu'"
   ]
  },
  {
   "cell_type": "code",
   "execution_count": 4,
   "metadata": {},
   "outputs": [
    {
     "data": {
      "text/plain": [
       "'cuda'"
      ]
     },
     "execution_count": 4,
     "metadata": {},
     "output_type": "execute_result"
    }
   ],
   "source": [
    "device"
   ]
  },
  {
   "cell_type": "code",
   "execution_count": 5,
   "metadata": {},
   "outputs": [
    {
     "name": "stdout",
     "output_type": "stream",
     "text": [
      "--- Retrieve Data ---\n"
     ]
    }
   ],
   "source": [
    "print(\"--- Retrieve Data ---\")\n",
    "FILE_PATH = './dataset/deu-eng/deu.txt'\n",
    "\n",
    "data_pipe = dp.iter.IterableWrapper([FILE_PATH])\n",
    "data_pipe = dp.iter.FileOpener(data_pipe,mode='rb')\n",
    "data_pipe = data_pipe.parse_csv(skip_lines=0,delimiter='\\t',as_tuple=True)\n",
    "\n",
    "data_pipe = data_pipe.map(util.removeAttribution)\n",
    "\n",
    "eng = spacy.load('en_core_web_sm')\n",
    "de = spacy.load('de_core_news_sm')"
   ]
  },
  {
   "cell_type": "code",
   "execution_count": 6,
   "metadata": {},
   "outputs": [
    {
     "name": "stdout",
     "output_type": "stream",
     "text": [
      "--- Build Vocaburaries ---\n"
     ]
    }
   ],
   "source": [
    "print('--- Build Vocaburaries ---')\n",
    "source_vocab = build_vocab_from_iterator(\n",
    "    util.getTokens(data_pipe,0,eng.tokenizer,de.tokenizer),\n",
    "    min_freq=2,\n",
    "    specials=['<pad>','<sos>','<eos>','<unk>'],\n",
    "    special_first=True\n",
    ")\n",
    "source_vocab.set_default_index(source_vocab['<unk>'])"
   ]
  },
  {
   "cell_type": "code",
   "execution_count": 7,
   "metadata": {},
   "outputs": [],
   "source": [
    "target_vocab = build_vocab_from_iterator(\n",
    "    util.getTokens(data_pipe,1,eng.tokenizer,de.tokenizer),\n",
    "    min_freq=2,\n",
    "    specials= ['<pad>', '<sos>', '<eos>', '<unk>'],\n",
    "    special_first=True\n",
    ")"
   ]
  },
  {
   "cell_type": "code",
   "execution_count": 8,
   "metadata": {},
   "outputs": [],
   "source": [
    "target_vocab.set_default_index(target_vocab['<unk>'])"
   ]
  },
  {
   "cell_type": "code",
   "execution_count": 9,
   "metadata": {},
   "outputs": [
    {
     "name": "stdout",
     "output_type": "stream",
     "text": [
      "--- Transform Data : Adding SOS and EOS ---\n"
     ]
    }
   ],
   "source": [
    "print('--- Transform Data : Adding SOS and EOS ---')\n",
    "def applyTransform(sequence_pair):\n",
    "    return (\n",
    "        util.getTransform(source_vocab)(util.Tokenize(sequence_pair[0],eng.tokenizer)),\n",
    "        util.getTransform(target_vocab)(util.Tokenize(sequence_pair[1],de.tokenizer))\n",
    "    )\n",
    "\n",
    "data_pipe = data_pipe.map(applyTransform)\n",
    "\n",
    "data_pipe = util.separateSourceTarget(data_pipe)"
   ]
  },
  {
   "cell_type": "code",
   "execution_count": 10,
   "metadata": {},
   "outputs": [
    {
     "name": "stdout",
     "output_type": "stream",
     "text": [
      "--- Apply Padding ---\n"
     ]
    }
   ],
   "source": [
    "print('--- Apply Padding ---')\n",
    "src_pad = util.applyPadding(data_pipe[0],device)\n",
    "tgt_pad = util.applyPadding(data_pipe[1],device)\n",
    "\n",
    "dataset = []\n",
    "for i in range(len(src_pad)):\n",
    "    dataset.append((src_pad[i],tgt_pad[i]))\n",
    "\n",
    "train_size = int(0.8 * len(dataset))\n",
    "test_size = len(dataset) - train_size\n",
    "train_dataset,test_dataset = random_split(dataset,[train_size,test_size])\n",
    "\n",
    "data_loader = DataLoader(dataset,batch_size=64,shuffle=True)\n",
    "test_data_loader = DataLoader(dataset,batch_size=64)"
   ]
  },
  {
   "cell_type": "code",
   "execution_count": 14,
   "metadata": {},
   "outputs": [
    {
     "name": "stdout",
     "output_type": "stream",
     "text": [
      "--- Training ---\n"
     ]
    }
   ],
   "source": [
    "### Training Loop ###\n",
    "print('--- Training ---')\n",
    "src_vocab_size = 13610\n",
    "tgt_vocab_size = 24266\n",
    "d_model = 512\n",
    "num_heads = 8\n",
    "num_layers = 6\n",
    "d_ff = 2048\n",
    "max_seq_length = 128\n",
    "dropout = 0.1\n",
    "\n",
    "transformer = Transformer(src_vocab_size, tgt_vocab_size, d_model, num_heads, num_layers, d_ff, max_seq_length, dropout,device)\n",
    "\n",
    "epochs = 5\n",
    "\n",
    "loss_fn = nn.CrossEntropyLoss(ignore_index=0)\n",
    "optimizer = torch.optim.Adam(transformer.parameters(),lr = 0.0001,betas=(0.9,0.98),eps=1e-9)\n",
    "\n",
    "transformer.train()\n",
    "\n",
    "steps = []\n",
    "loss_plots = []\n",
    "\n",
    "total_loss = 0\n"
   ]
  },
  {
   "cell_type": "code",
   "execution_count": 11,
   "metadata": {},
   "outputs": [],
   "source": [
    "def evaluatemodel(model, source_input,start_token,end_token,max_seq_length):\n",
    "    target_input = [start_token]\n",
    "    for _ in range(max_seq_length):\n",
    "        pred = model(source_input,torch.tensor(target_input).unsqueeze(0).to(device)).squeeze(0)\n",
    "        next_token = torch.argmax(pred[-1],dim=-1).item()\n",
    "        target_input.append(next_token)\n",
    "        if next_token == end_token:\n",
    "            break\n",
    "    return target_input"
   ]
  },
  {
   "cell_type": "code",
   "execution_count": 26,
   "metadata": {},
   "outputs": [],
   "source": [
    "\n",
    "target_index_to_string = target_vocab.get_itos()\n",
    "source_index_to_string = source_vocab.get_itos()"
   ]
  },
  {
   "cell_type": "code",
   "execution_count": 28,
   "metadata": {},
   "outputs": [
    {
     "name": "stdout",
     "output_type": "stream",
     "text": [
      "torch.Size([64, 113])\n",
      "10.34080982208252\n",
      " <sos> Go . <eos> <pad> <pad> <pad> <pad> <pad> <pad> <pad> <pad> <pad> <pad> <pad> <pad> <pad> <pad> <pad> <pad> <pad> <pad> <pad> <pad> <pad> <pad> <pad> <pad> <pad> <pad> <pad> <pad> <pad> <pad> <pad> <pad> <pad> <pad> <pad> <pad> <pad> <pad> <pad> <pad> <pad> <pad> <pad> <pad> <pad> <pad> <pad> <pad> <pad> <pad> <pad> <pad> <pad> <pad> <pad> <pad> <pad> <pad> <pad> <pad> <pad> <pad> <pad> <pad> <pad> <pad> <pad> <pad> <pad> <pad> <pad> <pad> <pad> <pad> <pad> <pad> <pad> <pad> <pad> <pad> <pad> <pad> <pad> <pad> <pad> <pad> <pad> <pad> <pad> <pad> <pad> <pad> <pad> <pad> <pad> <pad> <pad> <pad> <pad> <pad> <pad> <pad> <pad> <pad> <pad> <pad> <pad> <pad> <pad>\n",
      "torch.Size([1, 113])\n"
     ]
    },
    {
     "name": "stdout",
     "output_type": "stream",
     "text": [
      " <sos> Strumpfhosen Fünfen empfindlich Mützen rosige rosige rosige überredete weichen rosige Kirschbaum tätig Antrag Teppichen Japaner altern Enthusiasmus anstecken ziemliches Pfeil holprig Sibirien vorspielte wettet rennen rosige Tragwerk Eisenbahn 140 Herzrasen Werd Immer Tat altern Ruhm Drehtür Schwarzmarkt Rat überreicht erzählst Augenklappe bereute Dachten Immer Tat Sehkraft offenbart bereute allzubald allzubald fortgeschrittenen verwöhnte Nichten betrinken Ruhm Künstler Korrespondent rausbekommen Korrespondent Zaume Wolltet Strumpfhosen Tatsächlich siebentausend Augenbinde Korrespondent Maschine Schwarzmarkt Welcher pleite Korrespondent Tatsächlich Loch konzentrierte Kamm bezüglich Riss schlägt Unterrichtsmethoden wägen Weihnachtsfilm 155 begehen eingebildet Kirschbaum hinkte Wolltet Privatvergnügen einzigartig was fegt verwöhnte applaudierten Stativ zuknöpfen öffnen beibringen zuknöpfen öffnen zugesehen allzubald Experte Städtchen bestehe gefälschten Führt zusätzlich Atheist Augenklappe begehen Rente rutschig Krankenhaus Wolltet Massage erklärten findet Führt Blumenstrauß Prophet wichtiges Abschiede absurd Privatvergnügen Schwarzmarkt Welcher Nudeln trieben\n",
      "0.41495817431705273\n"
     ]
    }
   ],
   "source": [
    "with torch.inference_mode():\n",
    "    for batch, (source, target) in enumerate(test_data_loader):\n",
    "        print(source.shape)\n",
    "        source = source.to(device)\n",
    "        target = target.to(device)\n",
    "        output = transformer(source, target[:,:-1])\n",
    "        loss = loss = loss_fn(output.contiguous().view(-1,tgt_vocab_size),target[:,1:].contiguous().view(-1))\n",
    "        print(loss.item())\n",
    "        total_loss += loss.item()\n",
    "\n",
    "        if batch % 100 == 0:\n",
    "            sentence = ''\n",
    "            for i in source[0].cpu().numpy():\n",
    "                sentence += ' ' + source_index_to_string[i]\n",
    "            print(sentence)\n",
    "            source_sentence = source[0].unsqueeze(0)\n",
    "            print(source_sentence.shape)\n",
    "            target_index = evaluatemodel(transformer,source_sentence,start_token=1,end_token=2,max_seq_length=max_seq_length)\n",
    "            sentence = ''\n",
    "            for index in target_index:\n",
    "                sentence += ' ' + target_index_to_string[index]\n",
    "            print(sentence) \n",
    "        break\n",
    "\n",
    "loss_avg = total_loss / len(test_data_loader)\n",
    "print(loss_avg)"
   ]
  },
  {
   "cell_type": "code",
   "execution_count": 13,
   "metadata": {},
   "outputs": [
    {
     "data": {
      "text/plain": [
       "4343"
      ]
     },
     "execution_count": 13,
     "metadata": {},
     "output_type": "execute_result"
    }
   ],
   "source": [
    "len(data_loader)"
   ]
  },
  {
   "cell_type": "code",
   "execution_count": 15,
   "metadata": {},
   "outputs": [],
   "source": [
    "X,y = next(iter(data_loader))"
   ]
  },
  {
   "cell_type": "code",
   "execution_count": 16,
   "metadata": {},
   "outputs": [
    {
     "data": {
      "text/plain": [
       "torch.Size([64, 113])"
      ]
     },
     "execution_count": 16,
     "metadata": {},
     "output_type": "execute_result"
    }
   ],
   "source": [
    "X.shape"
   ]
  },
  {
   "cell_type": "code",
   "execution_count": 17,
   "metadata": {},
   "outputs": [
    {
     "data": {
      "text/plain": [
       "torch.Size([64, 90])"
      ]
     },
     "execution_count": 17,
     "metadata": {},
     "output_type": "execute_result"
    }
   ],
   "source": [
    "y.shape"
   ]
  },
  {
   "cell_type": "code",
   "execution_count": 18,
   "metadata": {},
   "outputs": [],
   "source": [
    "source = X.to(device)\n",
    "target = y.to(device)"
   ]
  },
  {
   "cell_type": "code",
   "execution_count": 19,
   "metadata": {},
   "outputs": [],
   "source": [
    "output = transformer(source,target[:,:-1])"
   ]
  },
  {
   "cell_type": "code",
   "execution_count": 20,
   "metadata": {},
   "outputs": [
    {
     "data": {
      "text/plain": [
       "torch.Size([64, 89, 24266])"
      ]
     },
     "execution_count": 20,
     "metadata": {},
     "output_type": "execute_result"
    }
   ],
   "source": [
    "output.shape"
   ]
  },
  {
   "cell_type": "code",
   "execution_count": 22,
   "metadata": {},
   "outputs": [],
   "source": [
    "output = output.contiguous().view(-1,tgt_vocab_size)"
   ]
  },
  {
   "cell_type": "code",
   "execution_count": 23,
   "metadata": {},
   "outputs": [
    {
     "data": {
      "text/plain": [
       "torch.Size([5696, 24266])"
      ]
     },
     "execution_count": 23,
     "metadata": {},
     "output_type": "execute_result"
    }
   ],
   "source": [
    "output.shape"
   ]
  },
  {
   "cell_type": "code",
   "execution_count": 25,
   "metadata": {},
   "outputs": [
    {
     "name": "stdout",
     "output_type": "stream",
     "text": [
      "--- New Epoch Starts ---\n",
      "loss tensor(2.2726, device='cuda:0', grad_fn=<NllLossBackward0>)r"
     ]
    },
    {
     "name": "stdout",
     "output_type": "stream",
     "text": [
      "loss tensor(2.1087, device='cuda:0', grad_fn=<NllLossBackward0>)rloss tensor(2.2680, device='cuda:0', grad_fn=<NllLossBackward0>)rloss tensor(2.0165, device='cuda:0', grad_fn=<NllLossBackward0>)rloss tensor(1.5006, device='cuda:0', grad_fn=<NllLossBackward0>)rloss tensor(2.3025, device='cuda:0', grad_fn=<NllLossBackward0>)rloss tensor(1.7090, device='cuda:0', grad_fn=<NllLossBackward0>)rloss tensor(2.0214, device='cuda:0', grad_fn=<NllLossBackward0>)rloss tensor(2.1789, device='cuda:0', grad_fn=<NllLossBackward0>)rloss tensor(1.7376, device='cuda:0', grad_fn=<NllLossBackward0>)rloss tensor(1.8636, device='cuda:0', grad_fn=<NllLossBackward0>)rloss tensor(1.6835, device='cuda:0', grad_fn=<NllLossBackward0>)rloss tensor(2.0011, device='cuda:0', grad_fn=<NllLossBackward0>)rloss tensor(1.4699, device='cuda:0', grad_fn=<NllLossBackward0>)rloss tensor(1.4746, device='cuda:0', grad_fn=<NllLossBackward0>)rloss tensor(1.7946, device='cuda:0', grad_fn=<NllLossBackward0>)rloss tensor(1.8868, device='cuda:0', grad_fn=<NllLossBackward0>)rloss tensor(1.5918, device='cuda:0', grad_fn=<NllLossBackward0>)rloss tensor(1.5532, device='cuda:0', grad_fn=<NllLossBackward0>)rloss tensor(1.6010, device='cuda:0', grad_fn=<NllLossBackward0>)rloss tensor(1.7427, device='cuda:0', grad_fn=<NllLossBackward0>)rloss tensor(1.5398, device='cuda:0', grad_fn=<NllLossBackward0>)r--- New Epoch Starts ---\n",
      "loss tensor(1.8908, device='cuda:0', grad_fn=<NllLossBackward0>)rloss tensor(1.6153, device='cuda:0', grad_fn=<NllLossBackward0>)rloss tensor(1.6159, device='cuda:0', grad_fn=<NllLossBackward0>)rloss tensor(1.6721, device='cuda:0', grad_fn=<NllLossBackward0>)r"
     ]
    },
    {
     "ename": "KeyboardInterrupt",
     "evalue": "",
     "output_type": "error",
     "traceback": [
      "\u001b[0;31m---------------------------------------------------------------------------\u001b[0m",
      "\u001b[0;31mKeyboardInterrupt\u001b[0m                         Traceback (most recent call last)",
      "Cell \u001b[0;32mIn[25], line 9\u001b[0m\n\u001b[1;32m      7\u001b[0m output \u001b[38;5;241m=\u001b[39m transformer(source,target[:,:\u001b[38;5;241m-\u001b[39m\u001b[38;5;241m1\u001b[39m])\n\u001b[1;32m      8\u001b[0m loss \u001b[38;5;241m=\u001b[39m loss_fn(output\u001b[38;5;241m.\u001b[39mcontiguous()\u001b[38;5;241m.\u001b[39mview(\u001b[38;5;241m-\u001b[39m\u001b[38;5;241m1\u001b[39m,tgt_vocab_size),target[:,\u001b[38;5;241m1\u001b[39m:]\u001b[38;5;241m.\u001b[39mcontiguous()\u001b[38;5;241m.\u001b[39mview(\u001b[38;5;241m-\u001b[39m\u001b[38;5;241m1\u001b[39m))\n\u001b[0;32m----> 9\u001b[0m total_loss \u001b[38;5;241m+\u001b[39m\u001b[38;5;241m=\u001b[39m \u001b[43mloss\u001b[49m\u001b[38;5;241;43m.\u001b[39;49m\u001b[43mitem\u001b[49m\u001b[43m(\u001b[49m\u001b[43m)\u001b[49m\n\u001b[1;32m     10\u001b[0m loss\u001b[38;5;241m.\u001b[39mbackward()\n\u001b[1;32m     11\u001b[0m optimizer\u001b[38;5;241m.\u001b[39mstep()\n",
      "\u001b[0;31mKeyboardInterrupt\u001b[0m: "
     ]
    }
   ],
   "source": [
    "for epoch in range(epochs):\n",
    "    print('--- New Epoch Starts ---')\n",
    "    for batch,(source,target) in enumerate(data_loader):\n",
    "        optimizer.zero_grad()\n",
    "        source = source.to(device)\n",
    "        target = target.to(device)\n",
    "        output = transformer(source,target[:,:-1])\n",
    "        loss = loss_fn(output.contiguous().view(-1,tgt_vocab_size),target[:,1:].contiguous().view(-1))\n",
    "        total_loss += loss.item()\n",
    "        loss.backward()\n",
    "        optimizer.step()\n",
    "\n",
    "        if (epoch * len(data_loader) + batch) % 200 == 0:\n",
    "            steps.append(epoch * len(data_loader) + batch)\n",
    "            loss_plots.append(loss)\n",
    "            print('loss',loss,end='r')"
   ]
  },
  {
   "cell_type": "code",
   "execution_count": null,
   "metadata": {},
   "outputs": [],
   "source": [
    "transformer.eval()\n",
    "total_loss = 0\n",
    "\n",
    "target_index_to_string = target_vocab.get_itos()\n",
    "source_index_to_string = source_vocab.get_itos()\n",
    "\n",
    "with torch.inference_mode():\n",
    "    for batch, (soruce, target) in enumerate(test_data_loader):\n",
    "        source = source.to(device)\n",
    "        target = target.to(device)\n",
    "        output = transformer(source, target[:,:-1])\n",
    "        loss = loss = loss_fn(output.contiguous().view(-1,tgt_vocab_size),target[:,1:].contiguous().view(-1))\n",
    "        total_loss += loss.item()\n",
    "\n",
    "        if batch % 100 == 0:\n",
    "            source_sentence = source[0]\n",
    "            target_index = evaluatemodel(transformer,source,start_token=1,end_token=2)\n",
    "            sentence = ''\n",
    "            for index in target_index:\n",
    "                sentence += ' ' + target_index_to_string[index]\n",
    "            print(sentence) \n",
    "\n",
    "loss_avg = total_loss / len(test_data_loader)\n",
    "print(loss_avg)"
   ]
  },
  {
   "cell_type": "code",
   "execution_count": 34,
   "metadata": {},
   "outputs": [
    {
     "data": {
      "image/png": "[encoded data removed]",
      "text/plain": [
       "<Figure size 1000x600 with 1 Axes>"
      ]
     },
     "metadata": {},
     "output_type": "display_data"
    },
    {
     "ename": "",
     "evalue": "",
     "output_type": "error",
     "traceback": [
      "\u001b[1;31mThe Kernel crashed while executing code in the current cell or a previous cell. \n",
      "\u001b[1;31mPlease review the code in the cell(s) to identify a possible cause of the failure. \n",
      "\u001b[1;31mClick <a href='https://aka.ms/vscodeJupyterKernelCrash'>here</a> for more info. \n",
      "\u001b[1;31mView Jupyter <a href='command:jupyter.viewOutput'>log</a> for further details."
     ]
    }
   ],
   "source": [
    "import matplotlib.pyplot as plt\n",
    "\n",
    "def plot_loss_curve(steps, losses, title='Loss Curve', xlabel='Step', ylabel='Loss', save_path=None):\n",
    "    \"\"\"\n",
    "    Plots a loss curve given a list of steps and loss values, and optionally saves the plot to a file.\n",
    "    \n",
    "    Parameters:\n",
    "    steps (list of int): List of step values for the x-axis.\n",
    "    losses (list of float): List of loss values for the y-axis.\n",
    "    title (str): Title of the plot.\n",
    "    xlabel (str): Label for the x-axis.\n",
    "    ylabel (str): Label for the y-axis.\n",
    "    save_path (str): If provided, the path where the plot will be saved.\n",
    "    \"\"\"\n",
    "    # Check if the inputs are valid lists of integers and floats\n",
    "    if not all(isinstance(x, int) for x in steps):\n",
    "        raise ValueError(\"All elements in the steps list must be integers.\")\n",
    "    if not all(isinstance(x, (int, float)) for x in losses):\n",
    "        raise ValueError(\"All elements in the losses list must be floats or ints.\")\n",
    "    if len(steps) != len(losses):\n",
    "        raise ValueError(\"The steps and losses lists must have the same length.\")\n",
    "    \n",
    "    # Plot the loss values\n",
    "    plt.figure(figsize=(10, 6))\n",
    "    plt.plot(steps, losses, linestyle='-', color='b')\n",
    "    plt.title(title)\n",
    "    plt.xlabel(xlabel)\n",
    "    plt.ylabel(ylabel)\n",
    "    plt.grid(False)\n",
    "    \n",
    "    # Save the plot if a save path is provided\n",
    "    if save_path:\n",
    "        plt.savefig(save_path)\n",
    "    \n",
    "    # Show the plot\n",
    "    plt.show()\n",
    "\n",
    "# Example usage\n",
    "steps = [100, 200, 300, 400, 500, 600, 700, 800, 900, 1000, 1100, 1200]\n",
    "losses = [0.9, 0.8, 0.7, 0.65, 0.6, 0.55, 0.5, 0.45, 0.4, 0.35, 0.3, 0.25]\n",
    "plot_loss_curve(steps, losses, save_path='loss_curve.png')\n"
   ]
  }
 ],
 "metadata": {
  "kernelspec": {
   "display_name": "machine_translation",
   "language": "python",
   "name": "python3"
  },
  "language_info": {
   "codemirror_mode": {
    "name": "ipython",
    "version": 3
   },
   "file_extension": ".py",
   "mimetype": "text/x-python",
   "name": "python",
   "nbconvert_exporter": "python",
   "pygments_lexer": "ipython3",
   "version": "3.10.14"
  }
 },
 "nbformat": 4,
 "nbformat_minor": 2
}
